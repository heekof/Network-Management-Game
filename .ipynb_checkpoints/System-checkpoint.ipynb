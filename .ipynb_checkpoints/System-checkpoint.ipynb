{
 "cells": [
  {
   "cell_type": "code",
   "execution_count": 1,
   "metadata": {
    "collapsed": true
   },
   "outputs": [],
   "source": [
    "import numpy as np\n",
    "import pandas as pd\n",
    "#standard import\n",
    "import numpy as np\n",
    "from __future__ import division\n",
    "import pandas as pd\n",
    "from pandas import Series,DataFrame\n",
    "import sys\n",
    "from numpy.random import randn"
   ]
  },
  {
   "cell_type": "code",
   "execution_count": 31,
   "metadata": {
    "collapsed": false
   },
   "outputs": [],
   "source": [
    "import logging\n",
    "\n",
    "logger = logging.getLogger(__name__)\n",
    "logger.setLevel(logging.INFO)\n",
    "\n",
    "# create a file handler\n",
    "handler = logging.FileHandler('system.log')\n",
    "handler.setLevel(logging.INFO)\n",
    "\n",
    "# create a logging format\n",
    "formatter = logging.Formatter('%(asctime)s - %(name)s - %(levelname)s - %(message)s')\n",
    "handler.setFormatter(formatter)\n",
    "\n",
    "# add the handlers to the logger\n",
    "logger.addHandler(handler)\n",
    "\n"
   ]
  },
  {
   "cell_type": "code",
   "execution_count": 43,
   "metadata": {
    "collapsed": false
   },
   "outputs": [],
   "source": [
    "management_actions = [\"new VM\",\"del VM\",\"More CPU\",\"Less CPU\",\"Shutdown\"]\n",
    "system_output = [\"output1\",\"output 2\",\"output 3\",\"output 4\"]\n",
    "\n",
    "def system(actions):\n",
    "    output = \"\"\n",
    "    output_num = 0.01;\n",
    "    logger.info(actions)\n",
    "    \n",
    "    #logger.info(management_actions[0])\n",
    "    \n",
    "    if actions == management_actions[0]:\n",
    "        output = system_output[0];\n",
    "    elif actions == management_actions[1]:\n",
    "        output == system_output[1]\n",
    "    elif actions == management_actions[2]:\n",
    "        output == system_output[2]\n",
    "    elif actions == management_actions[3]:\n",
    "        output == system_output[3]\n",
    "    elif actions == management_actions[4]:\n",
    "         output == \"ok4\" \n",
    "    else:\n",
    "        output = \"standard\"\n",
    "   \n",
    "    print output"
   ]
  },
  {
   "cell_type": "code",
   "execution_count": 47,
   "metadata": {
    "collapsed": false
   },
   "outputs": [
    {
     "name": "stderr",
     "output_type": "stream",
     "text": [
      "INFO:__main__:action 1\n"
     ]
    },
    {
     "name": "stdout",
     "output_type": "stream",
     "text": [
      "output 1\n"
     ]
    }
   ],
   "source": [
    "#system(management_actions[0])\n",
    "system(management_actions[0])"
   ]
  },
  {
   "cell_type": "code",
   "execution_count": 22,
   "metadata": {
    "collapsed": true
   },
   "outputs": [],
   "source": []
  },
  {
   "cell_type": "code",
   "execution_count": null,
   "metadata": {
    "collapsed": true
   },
   "outputs": [],
   "source": []
  }
 ],
 "metadata": {
  "kernelspec": {
   "display_name": "Python 2",
   "language": "python",
   "name": "python2"
  },
  "language_info": {
   "codemirror_mode": {
    "name": "ipython",
    "version": 2
   },
   "file_extension": ".py",
   "mimetype": "text/x-python",
   "name": "python",
   "nbconvert_exporter": "python",
   "pygments_lexer": "ipython2",
   "version": "2.7.11"
  }
 },
 "nbformat": 4,
 "nbformat_minor": 0
}
